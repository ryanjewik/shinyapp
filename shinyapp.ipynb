{
 "cells": [
  {
   "cell_type": "code",
   "execution_count": 1,
   "id": "4f295d3d",
   "metadata": {},
   "outputs": [
    {
     "name": "stdout",
     "output_type": "stream",
     "text": [
      "Collecting shiny\n",
      "  Downloading shiny-1.2.0-py3-none-any.whl (4.3 MB)\n",
      "     ---------------------------------------- 4.3/4.3 MB 11.9 MB/s eta 0:00:00\n",
      "Collecting python-multipart\n",
      "  Downloading python_multipart-0.0.17-py3-none-any.whl (24 kB)\n",
      "Requirement already satisfied: appdirs>=1.4.4 in c:\\users\\ryan jewik\\anaconda3\\lib\\site-packages (from shiny) (1.4.4)\n",
      "Collecting watchfiles>=0.18.0\n",
      "  Downloading watchfiles-0.24.0-cp39-none-win_amd64.whl (277 kB)\n",
      "     -------------------------------------- 277.8/277.8 kB 8.6 MB/s eta 0:00:00\n",
      "Requirement already satisfied: typing-extensions>=4.10.0 in c:\\users\\ryan jewik\\anaconda3\\lib\\site-packages (from shiny) (4.12.2)\n",
      "Collecting narwhals>=1.10.0\n",
      "  Downloading narwhals-1.13.2-py3-none-any.whl (198 kB)\n",
      "     ------------------------------------- 198.6/198.6 kB 11.8 MB/s eta 0:00:00\n",
      "Collecting uvicorn>=0.16.0\n",
      "  Downloading uvicorn-0.32.0-py3-none-any.whl (63 kB)\n",
      "     ---------------------------------------- 63.7/63.7 kB ? eta 0:00:00\n",
      "Requirement already satisfied: packaging>=20.9 in c:\\users\\ryan jewik\\appdata\\roaming\\python\\python39\\site-packages (from shiny) (24.1)\n",
      "Collecting markdown-it-py>=1.1.0\n",
      "  Downloading markdown_it_py-3.0.0-py3-none-any.whl (87 kB)\n",
      "     ---------------------------------------- 87.5/87.5 kB ? eta 0:00:00\n",
      "Collecting websockets>=10.0\n",
      "  Downloading websockets-13.1-cp39-cp39-win_amd64.whl (159 kB)\n",
      "     ---------------------------------------- 159.1/159.1 kB ? eta 0:00:00\n",
      "Collecting asgiref>=3.5.2\n",
      "  Downloading asgiref-3.8.1-py3-none-any.whl (23 kB)\n",
      "Collecting click>=8.1.4\n",
      "  Using cached click-8.1.7-py3-none-any.whl (97 kB)\n",
      "Collecting linkify-it-py>=1.0\n",
      "  Downloading linkify_it_py-2.0.3-py3-none-any.whl (19 kB)\n",
      "Collecting questionary>=2.0.0\n",
      "  Downloading questionary-2.0.1-py3-none-any.whl (34 kB)\n",
      "Collecting starlette\n",
      "  Downloading starlette-0.41.2-py3-none-any.whl (73 kB)\n",
      "     ---------------------------------------- 73.3/73.3 kB ? eta 0:00:00\n",
      "Requirement already satisfied: prompt-toolkit in c:\\users\\ryan jewik\\anaconda3\\lib\\site-packages (from shiny) (3.0.20)\n",
      "Collecting htmltools>=0.6.0\n",
      "  Downloading htmltools-0.6.0-py3-none-any.whl (84 kB)\n",
      "     ---------------------------------------- 85.0/85.0 kB ? eta 0:00:00\n",
      "Collecting orjson>=3.10.7\n",
      "  Downloading orjson-3.10.11-cp39-none-win_amd64.whl (136 kB)\n",
      "     -------------------------------------- 136.3/136.3 kB 8.4 MB/s eta 0:00:00\n",
      "Collecting mdit-py-plugins>=0.3.0\n",
      "  Downloading mdit_py_plugins-0.4.2-py3-none-any.whl (55 kB)\n",
      "     ---------------------------------------- 55.3/55.3 kB ? eta 0:00:00\n",
      "Requirement already satisfied: colorama in c:\\users\\ryan jewik\\appdata\\roaming\\python\\python39\\site-packages (from click>=8.1.4->shiny) (0.4.6)\n",
      "Collecting uc-micro-py\n",
      "  Downloading uc_micro_py-1.0.3-py3-none-any.whl (6.2 kB)\n",
      "Collecting mdurl~=0.1\n",
      "  Downloading mdurl-0.1.2-py3-none-any.whl (10.0 kB)\n",
      "Requirement already satisfied: wcwidth in c:\\users\\ryan jewik\\anaconda3\\lib\\site-packages (from prompt-toolkit->shiny) (0.2.5)\n",
      "Collecting h11>=0.8\n",
      "  Downloading h11-0.14.0-py3-none-any.whl (58 kB)\n",
      "     ---------------------------------------- 58.3/58.3 kB ? eta 0:00:00\n",
      "Requirement already satisfied: anyio>=3.0.0 in c:\\users\\ryan jewik\\anaconda3\\lib\\site-packages (from watchfiles>=0.18.0->shiny) (3.5.0)\n",
      "Requirement already satisfied: idna>=2.8 in c:\\users\\ryan jewik\\anaconda3\\lib\\site-packages (from anyio>=3.0.0->watchfiles>=0.18.0->shiny) (3.3)\n",
      "Requirement already satisfied: sniffio>=1.1 in c:\\users\\ryan jewik\\anaconda3\\lib\\site-packages (from anyio>=3.0.0->watchfiles>=0.18.0->shiny) (1.2.0)\n",
      "Installing collected packages: websockets, uc-micro-py, python-multipart, orjson, narwhals, mdurl, htmltools, h11, click, asgiref, watchfiles, uvicorn, starlette, questionary, markdown-it-py, linkify-it-py, mdit-py-plugins, shiny\n",
      "  Attempting uninstall: click\n",
      "    Found existing installation: click 8.0.4\n",
      "    Uninstalling click-8.0.4:\n",
      "      Successfully uninstalled click-8.0.4\n",
      "Successfully installed asgiref-3.8.1 click-8.1.7 h11-0.14.0 htmltools-0.6.0 linkify-it-py-2.0.3 markdown-it-py-3.0.0 mdit-py-plugins-0.4.2 mdurl-0.1.2 narwhals-1.13.2 orjson-3.10.11 python-multipart-0.0.17 questionary-2.0.1 shiny-1.2.0 starlette-0.41.2 uc-micro-py-1.0.3 uvicorn-0.32.0 watchfiles-0.24.0 websockets-13.1\n"
     ]
    },
    {
     "name": "stderr",
     "output_type": "stream",
     "text": [
      "WARNING: Ignoring invalid distribution -atplotlib (c:\\users\\ryan jewik\\anaconda3\\lib\\site-packages)\n",
      "WARNING: Ignoring invalid distribution -atplotlib (c:\\users\\ryan jewik\\anaconda3\\lib\\site-packages)\n",
      "WARNING: Ignoring invalid distribution -atplotlib (c:\\users\\ryan jewik\\anaconda3\\lib\\site-packages)\n",
      "    WARNING: Ignoring invalid distribution -atplotlib (c:\\users\\ryan jewik\\anaconda3\\lib\\site-packages)\n",
      "WARNING: Ignoring invalid distribution -atplotlib (c:\\users\\ryan jewik\\anaconda3\\lib\\site-packages)\n",
      "WARNING: Ignoring invalid distribution -atplotlib (c:\\users\\ryan jewik\\anaconda3\\lib\\site-packages)\n",
      "WARNING: Ignoring invalid distribution -atplotlib (c:\\users\\ryan jewik\\anaconda3\\lib\\site-packages)\n",
      "WARNING: Ignoring invalid distribution -atplotlib (c:\\users\\ryan jewik\\anaconda3\\lib\\site-packages)\n",
      "WARNING: Ignoring invalid distribution -atplotlib (c:\\users\\ryan jewik\\anaconda3\\lib\\site-packages)\n",
      "WARNING: Ignoring invalid distribution -atplotlib (c:\\users\\ryan jewik\\anaconda3\\lib\\site-packages)\n",
      "WARNING: Ignoring invalid distribution -atplotlib (c:\\users\\ryan jewik\\anaconda3\\lib\\site-packages)\n",
      "WARNING: Ignoring invalid distribution -atplotlib (c:\\users\\ryan jewik\\anaconda3\\lib\\site-packages)\n",
      "WARNING: Ignoring invalid distribution -atplotlib (c:\\users\\ryan jewik\\anaconda3\\lib\\site-packages)\n",
      "WARNING: Ignoring invalid distribution -atplotlib (c:\\users\\ryan jewik\\anaconda3\\lib\\site-packages)\n",
      "WARNING: Ignoring invalid distribution -atplotlib (c:\\users\\ryan jewik\\anaconda3\\lib\\site-packages)\n",
      "WARNING: Ignoring invalid distribution -atplotlib (c:\\users\\ryan jewik\\anaconda3\\lib\\site-packages)\n",
      "WARNING: Ignoring invalid distribution -atplotlib (c:\\users\\ryan jewik\\anaconda3\\lib\\site-packages)\n",
      "WARNING: Ignoring invalid distribution -atplotlib (c:\\users\\ryan jewik\\anaconda3\\lib\\site-packages)\n",
      "WARNING: Ignoring invalid distribution -atplotlib (c:\\users\\ryan jewik\\anaconda3\\lib\\site-packages)\n",
      "WARNING: Ignoring invalid distribution -atplotlib (c:\\users\\ryan jewik\\anaconda3\\lib\\site-packages)\n",
      "WARNING: Ignoring invalid distribution -atplotlib (c:\\users\\ryan jewik\\anaconda3\\lib\\site-packages)\n",
      "WARNING: Ignoring invalid distribution -atplotlib (c:\\users\\ryan jewik\\anaconda3\\lib\\site-packages)\n",
      "WARNING: Ignoring invalid distribution -atplotlib (c:\\users\\ryan jewik\\anaconda3\\lib\\site-packages)\n",
      "WARNING: Ignoring invalid distribution -atplotlib (c:\\users\\ryan jewik\\anaconda3\\lib\\site-packages)\n",
      "WARNING: Ignoring invalid distribution -atplotlib (c:\\users\\ryan jewik\\anaconda3\\lib\\site-packages)\n"
     ]
    }
   ],
   "source": [
    "!pip install shiny"
   ]
  },
  {
   "cell_type": "code",
   "execution_count": 4,
   "id": "f0170243",
   "metadata": {},
   "outputs": [
    {
     "name": "stdout",
     "output_type": "stream",
     "text": [
      "… Creating Intermediate dashboard Shiny app...\n"
     ]
    },
    {
     "name": "stderr",
     "output_type": "stream",
     "text": [
      "Traceback (most recent call last):\n",
      "  File \"C:\\Users\\Ryan Jewik\\anaconda3\\lib\\runpy.py\", line 197, in _run_module_as_main\n",
      "    return _run_code(code, main_globals, None,\n",
      "  File \"C:\\Users\\Ryan Jewik\\anaconda3\\lib\\runpy.py\", line 87, in _run_code\n",
      "    exec(code, run_globals)\n",
      "  File \"C:\\Users\\Ryan Jewik\\anaconda3\\Scripts\\shiny.exe\\__main__.py\", line 7, in <module>\n",
      "  File \"C:\\Users\\Ryan Jewik\\anaconda3\\lib\\site-packages\\click\\core.py\", line 1157, in __call__\n",
      "    return self.main(*args, **kwargs)\n",
      "  File \"C:\\Users\\Ryan Jewik\\anaconda3\\lib\\site-packages\\click\\core.py\", line 1078, in main\n",
      "    rv = self.invoke(ctx)\n",
      "  File \"C:\\Users\\Ryan Jewik\\anaconda3\\lib\\site-packages\\click\\core.py\", line 1688, in invoke\n",
      "    return _process_result(sub_ctx.command.invoke(sub_ctx))\n",
      "  File \"C:\\Users\\Ryan Jewik\\anaconda3\\lib\\site-packages\\click\\core.py\", line 1434, in invoke\n",
      "    return ctx.invoke(self.callback, **ctx.params)\n",
      "  File \"C:\\Users\\Ryan Jewik\\anaconda3\\lib\\site-packages\\click\\core.py\", line 783, in invoke\n",
      "    return __callback(*args, **kwargs)\n",
      "  File \"C:\\Users\\Ryan Jewik\\anaconda3\\lib\\site-packages\\shiny\\_main.py\", line 601, in create\n",
      "    use_internal_template(template, mode, dir, package_name)\n",
      "  File \"C:\\Users\\Ryan Jewik\\anaconda3\\lib\\site-packages\\shiny\\_main_create.py\", line 287, in use_internal_template\n",
      "    return app_template_questions(template, mode, dest_dir=dest_dir)\n",
      "  File \"C:\\Users\\Ryan Jewik\\anaconda3\\lib\\site-packages\\shiny\\_main_create.py\", line 668, in app_template_questions\n",
      "    dest_dir = directory_prompt(dest_dir, template.id)\n",
      "  File \"C:\\Users\\Ryan Jewik\\anaconda3\\lib\\site-packages\\shiny\\_main_utils.py\", line 29, in directory_prompt\n",
      "    app_dir = questionary.path(\n",
      "  File \"C:\\Users\\Ryan Jewik\\anaconda3\\lib\\site-packages\\questionary\\prompts\\path.py\", line 231, in path\n",
      "    p: PromptSession = PromptSession(\n",
      "  File \"C:\\Users\\Ryan Jewik\\anaconda3\\lib\\site-packages\\prompt_toolkit\\shortcuts\\prompt.py\", line 468, in __init__\n",
      "    self.app = self._create_application(editing_mode, erase_when_done)\n",
      "  File \"C:\\Users\\Ryan Jewik\\anaconda3\\lib\\site-packages\\prompt_toolkit\\shortcuts\\prompt.py\", line 719, in _create_application\n",
      "    application: Application[_T] = Application(\n",
      "  File \"C:\\Users\\Ryan Jewik\\anaconda3\\lib\\site-packages\\prompt_toolkit\\application\\application.py\", line 277, in __init__\n",
      "    self.output = output or session.output\n",
      "  File \"C:\\Users\\Ryan Jewik\\anaconda3\\lib\\site-packages\\prompt_toolkit\\application\\current.py\", line 70, in output\n",
      "    self._output = create_output()\n",
      "  File \"C:\\Users\\Ryan Jewik\\anaconda3\\lib\\site-packages\\prompt_toolkit\\output\\defaults.py\", line 73, in create_output\n",
      "    return Win32Output(stdout, default_color_depth=color_depth_from_env)\n",
      "  File \"C:\\Users\\Ryan Jewik\\anaconda3\\lib\\site-packages\\prompt_toolkit\\output\\win32.py\", line 118, in __init__\n",
      "    info = self.get_win32_screen_buffer_info()\n",
      "  File \"C:\\Users\\Ryan Jewik\\anaconda3\\lib\\site-packages\\prompt_toolkit\\output\\win32.py\", line 224, in get_win32_screen_buffer_info\n",
      "    raise NoConsoleScreenBufferError\n",
      "prompt_toolkit.output.win32.NoConsoleScreenBufferError: Found xterm-color, while expecting a Windows console. Maybe try to run this program using \"winpty\" or run it in cmd.exe instead. Or otherwise, in case of Cygwin, use the Python executable that is compiled for Cygwin.\n"
     ]
    }
   ],
   "source": [
    "!shiny create --template dashboard-tips"
   ]
  },
  {
   "cell_type": "code",
   "execution_count": null,
   "id": "3243683a",
   "metadata": {},
   "outputs": [],
   "source": []
  }
 ],
 "metadata": {
  "kernelspec": {
   "display_name": "Python 3 (ipykernel)",
   "language": "python",
   "name": "python3"
  },
  "language_info": {
   "codemirror_mode": {
    "name": "ipython",
    "version": 3
   },
   "file_extension": ".py",
   "mimetype": "text/x-python",
   "name": "python",
   "nbconvert_exporter": "python",
   "pygments_lexer": "ipython3",
   "version": "3.9.13"
  }
 },
 "nbformat": 4,
 "nbformat_minor": 5
}
